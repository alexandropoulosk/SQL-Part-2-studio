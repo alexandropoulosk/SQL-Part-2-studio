{
    "metadata": {
        "kernelspec": {
            "name": "SQL",
            "display_name": "SQL",
            "language": "sql"
        },
        "language_info": {
            "name": "sql",
            "version": ""
        },
        "extensions": {
            "azuredatastudio": {
                "version": 1,
                "views": []
            }
        }
    },
    "nbformat_minor": 2,
    "nbformat": 4,
    "cells": [
        {
            "cell_type": "markdown",
            "source": [
                "# Lesson 11: SQL Part 2 Studio\n",
                "\n",
                "> This studio asks you to create queries using the functions from this lesson. As you work through the studio, you may need to create more than one query to return the desired answer.  For others, you may need to combine functions together in order to answer the original query.  The questions have been organized in a way to help you puzzle out the answers.\n",
                "> \n",
                "> Happy querying! \n",
                "\n",
                "**The Dataset:**   \n",
                "\n",
                "> We will be working with the **BooksDB dataset** from Lesson 10.  You should already have access to it."
            ],
            "metadata": {
                "azdata_cell_guid": "bbaa021d-dbcb-4f90-a05f-f280d524589a"
            }
        },
        {
            "cell_type": "markdown",
            "source": [
                "## The Questions:"
            ],
            "metadata": {
                "azdata_cell_guid": "bfc33995-70d4-4403-a870-39244e5e9727"
            }
        },
        {
            "cell_type": "markdown",
            "source": [
                "1.  Create a query that returns the longest title in the dataset.  We can do this in two steps.\n",
                "\n",
                "> A. Create a query that returns the length of the longest title.\n",
                "> \n",
                "> B. Create a query that uses the length you found in step A to find the longest title."
            ],
            "metadata": {
                "azdata_cell_guid": "29e63840-f200-4b1b-9239-4dc60a402c1d"
            }
        },
        {
            "cell_type": "code",
            "source": [
                "SELECT TOP 1 LEN (title) AS \"longest book title length\"\n",
                "FROM BooksDB.dbo.books\n",
                "ORDER BY title DESC\n",
                "\n",
                "\n",
                "\n",
                "     "
            ],
            "metadata": {
                "azdata_cell_guid": "fc1a211d-ea4e-446a-bbf8-e31499c50aba",
                "language": "sql",
                "tags": []
            },
            "outputs": [
                {
                    "output_type": "display_data",
                    "data": {
                        "text/html": "(1 row affected)"
                    },
                    "metadata": {}
                },
                {
                    "output_type": "display_data",
                    "data": {
                        "text/html": "Total execution time: 00:00:00.164"
                    },
                    "metadata": {}
                },
                {
                    "output_type": "execute_result",
                    "metadata": {},
                    "execution_count": 1,
                    "data": {
                        "application/vnd.dataresource+json": {
                            "schema": {
                                "fields": [
                                    {
                                        "name": "longest book title length"
                                    }
                                ]
                            },
                            "data": [
                                {
                                    "0": "58"
                                }
                            ]
                        },
                        "text/html": [
                            "<table>",
                            "<tr><th>longest book title length</th></tr>",
                            "<tr><td>58</td></tr>",
                            "</table>"
                        ]
                    }
                }
            ],
            "execution_count": 1
        },
        {
            "cell_type": "markdown",
            "source": [
                "2.  Use what you learned in question 1 to find the shortest author name.  \n",
                "\n",
                "> A. Create a query that returns the length of the shortest author.\n",
                "> \n",
                "> B. Create a query that returns the shortest author's name."
            ],
            "metadata": {
                "azdata_cell_guid": "5de64491-7324-44ce-bda4-e22b07229854"
            }
        },
        {
            "cell_type": "code",
            "source": [
                "-- Code here:\r\n",
                "SELECT TOP 1 LEN (title) AS \"shortest book title length\"\r\n",
                "FROM BooksDB.dbo.books\r\n",
                "ORDER BY title ASC"
            ],
            "metadata": {
                "azdata_cell_guid": "61423c75-cb55-470f-b062-a1901d3da67c",
                "language": "sql"
            },
            "outputs": [
                {
                    "output_type": "display_data",
                    "data": {
                        "text/html": "(1 row affected)"
                    },
                    "metadata": {}
                },
                {
                    "output_type": "display_data",
                    "data": {
                        "text/html": "Total execution time: 00:00:00.057"
                    },
                    "metadata": {}
                },
                {
                    "output_type": "execute_result",
                    "metadata": {},
                    "execution_count": 2,
                    "data": {
                        "application/vnd.dataresource+json": {
                            "schema": {
                                "fields": [
                                    {
                                        "name": "shortest book title length"
                                    }
                                ]
                            },
                            "data": [
                                {
                                    "0": "26"
                                }
                            ]
                        },
                        "text/html": [
                            "<table>",
                            "<tr><th>shortest book title length</th></tr>",
                            "<tr><td>26</td></tr>",
                            "</table>"
                        ]
                    }
                }
            ],
            "execution_count": 2
        },
        {
            "cell_type": "markdown",
            "source": [
                "3\\. How many titles contain the word \"The\"?  \n",
                "\n",
                "  \n",
                "\n",
                "> A. Is there a difference between the number of titles that use \"The\" or \"the\"?"
            ],
            "metadata": {
                "azdata_cell_guid": "97f50346-9729-4d1b-926c-e1b53c5c5e68"
            }
        },
        {
            "cell_type": "code",
            "source": [
                "-- Code here:\r\n",
                "SELECT COUNT (title) AS \"# books with the word 'the' \"\r\n",
                "FROM BooksDB.dbo.books\r\n",
                "Where title LIKE 'The%'"
            ],
            "metadata": {
                "azdata_cell_guid": "f58433db-eb3b-46e0-bb4d-85ca52d359b5",
                "language": "sql"
            },
            "outputs": [
                {
                    "output_type": "display_data",
                    "data": {
                        "text/html": "(1 row affected)"
                    },
                    "metadata": {}
                },
                {
                    "output_type": "display_data",
                    "data": {
                        "text/html": "Total execution time: 00:00:00.076"
                    },
                    "metadata": {}
                },
                {
                    "output_type": "execute_result",
                    "metadata": {},
                    "execution_count": 3,
                    "data": {
                        "application/vnd.dataresource+json": {
                            "schema": {
                                "fields": [
                                    {
                                        "name": "# books with the word 'the' "
                                    }
                                ]
                            },
                            "data": [
                                {
                                    "0": "2854"
                                }
                            ]
                        },
                        "text/html": [
                            "<table>",
                            "<tr><th># books with the word 'the' </th></tr>",
                            "<tr><td>2854</td></tr>",
                            "</table>"
                        ]
                    }
                }
            ],
            "execution_count": 3
        },
        {
            "cell_type": "markdown",
            "source": [
                "4.  How many authors' names _start_ with 'Z'?"
            ],
            "metadata": {
                "azdata_cell_guid": "e0d89eca-410d-4e29-82ca-265b79c73fea"
            }
        },
        {
            "cell_type": "code",
            "source": [
                "-- Code here:\r\n",
                "SELECT COUNT (authors) AS \"# authors whos name starts with 'Z' \"\r\n",
                "FROM BooksDB.dbo.books\r\n",
                "WHERE authors LIKE 'Z%'"
            ],
            "metadata": {
                "azdata_cell_guid": "850f04c8-458a-4cfb-95c4-4dbb7a3d63d0",
                "language": "sql"
            },
            "outputs": [
                {
                    "output_type": "display_data",
                    "data": {
                        "text/html": "(1 row affected)"
                    },
                    "metadata": {}
                },
                {
                    "output_type": "display_data",
                    "data": {
                        "text/html": "Total execution time: 00:00:00.122"
                    },
                    "metadata": {}
                },
                {
                    "output_type": "execute_result",
                    "metadata": {},
                    "execution_count": 4,
                    "data": {
                        "application/vnd.dataresource+json": {
                            "schema": {
                                "fields": [
                                    {
                                        "name": "# authors whos name starts with 'Z' "
                                    }
                                ]
                            },
                            "data": [
                                {
                                    "0": "11"
                                }
                            ]
                        },
                        "text/html": [
                            "<table>",
                            "<tr><th># authors whos name starts with 'Z' </th></tr>",
                            "<tr><td>11</td></tr>",
                            "</table>"
                        ]
                    }
                }
            ],
            "execution_count": 4
        },
        {
            "cell_type": "code",
            "source": [
                "\r\n",
                "SELECT LEFT (authors, 1)\r\n",
                "FROM BooksDB.dbo.books\r\n",
                "WHERE authors LIKE 'Z%'"
            ],
            "metadata": {
                "language": "sql",
                "azdata_cell_guid": "4921d8b2-c720-4b27-908a-12269bd5251f"
            },
            "outputs": [
                {
                    "output_type": "display_data",
                    "data": {
                        "text/html": "(11 rows affected)"
                    },
                    "metadata": {}
                },
                {
                    "output_type": "display_data",
                    "data": {
                        "text/html": "Total execution time: 00:00:00.076"
                    },
                    "metadata": {}
                },
                {
                    "output_type": "execute_result",
                    "metadata": {},
                    "execution_count": 5,
                    "data": {
                        "application/vnd.dataresource+json": {
                            "schema": {
                                "fields": [
                                    {
                                        "name": "(No column name)"
                                    }
                                ]
                            },
                            "data": [
                                {
                                    "0": "Z"
                                },
                                {
                                    "0": "Z"
                                },
                                {
                                    "0": "Z"
                                },
                                {
                                    "0": "Z"
                                },
                                {
                                    "0": "Z"
                                },
                                {
                                    "0": "Z"
                                },
                                {
                                    "0": "Z"
                                },
                                {
                                    "0": "Z"
                                },
                                {
                                    "0": "Z"
                                },
                                {
                                    "0": "Z"
                                },
                                {
                                    "0": "Z"
                                }
                            ]
                        },
                        "text/html": [
                            "<table>",
                            "<tr><th>(No column name)</th></tr>",
                            "<tr><td>Z</td></tr>",
                            "<tr><td>Z</td></tr>",
                            "<tr><td>Z</td></tr>",
                            "<tr><td>Z</td></tr>",
                            "<tr><td>Z</td></tr>",
                            "<tr><td>Z</td></tr>",
                            "<tr><td>Z</td></tr>",
                            "<tr><td>Z</td></tr>",
                            "<tr><td>Z</td></tr>",
                            "<tr><td>Z</td></tr>",
                            "<tr><td>Z</td></tr>",
                            "</table>"
                        ]
                    }
                }
            ],
            "execution_count": 5
        },
        {
            "cell_type": "markdown",
            "source": [
                "5\\. How many books have been identified as printed in a language other than English?  There are four language codes for English: 'en', 'eng', 'en-US', and 'en-UK'.  Use LEFT to answer the question.  (Do not use the wildcard)\n",
                "\n",
                "You might want to use one of these [comparison operators](https://docs.microsoft.com/en-us/sql/t-sql/language-elements/comparison-operators-transact-sql?view=sql-server-ver15)."
            ],
            "metadata": {
                "azdata_cell_guid": "7066afeb-79d2-4e7f-b497-cbde17655b19"
            }
        },
        {
            "cell_type": "code",
            "source": [
                "-- Code here:\r\n",
                "SELECT LEFT(language_code, 2)\r\n",
                "FROM BooksDB.dbo.books\r\n",
                "Where language_code NOT LIKE 'en%'"
            ],
            "metadata": {
                "azdata_cell_guid": "5a85f5ae-dd59-4fa1-828a-c63fa330ff7f",
                "language": "sql"
            },
            "outputs": [
                {
                    "output_type": "display_data",
                    "data": {
                        "text/html": "(186 rows affected)"
                    },
                    "metadata": {}
                },
                {
                    "output_type": "display_data",
                    "data": {
                        "text/html": "Total execution time: 00:00:00.062"
                    },
                    "metadata": {}
                },
                {
                    "output_type": "execute_result",
                    "metadata": {},
                    "execution_count": 7,
                    "data": {
                        "application/vnd.dataresource+json": {
                            "schema": {
                                "fields": [
                                    {
                                        "name": "(No column name)"
                                    }
                                ]
                            },
                            "data": [
                                {
                                    "0": "sp"
                                },
                                {
                                    "0": "sp"
                                },
                                {
                                    "0": "sp"
                                },
                                {
                                    "0": "fr"
                                },
                                {
                                    "0": "fr"
                                },
                                {
                                    "0": "fr"
                                },
                                {
                                    "0": "sp"
                                },
                                {
                                    "0": "fr"
                                },
                                {
                                    "0": "nl"
                                },
                                {
                                    "0": "ar"
                                },
                                {
                                    "0": "ar"
                                },
                                {
                                    "0": "ar"
                                },
                                {
                                    "0": "po"
                                },
                                {
                                    "0": "ar"
                                },
                                {
                                    "0": "sp"
                                },
                                {
                                    "0": "sp"
                                },
                                {
                                    "0": "ge"
                                },
                                {
                                    "0": "ar"
                                },
                                {
                                    "0": "ar"
                                },
                                {
                                    "0": "ar"
                                },
                                {
                                    "0": "ge"
                                },
                                {
                                    "0": "ar"
                                },
                                {
                                    "0": "fr"
                                },
                                {
                                    "0": "no"
                                },
                                {
                                    "0": "jp"
                                },
                                {
                                    "0": "ar"
                                },
                                {
                                    "0": "fr"
                                },
                                {
                                    "0": "fr"
                                },
                                {
                                    "0": "ge"
                                },
                                {
                                    "0": "vi"
                                },
                                {
                                    "0": "ge"
                                },
                                {
                                    "0": "ar"
                                },
                                {
                                    "0": "ar"
                                },
                                {
                                    "0": "ar"
                                },
                                {
                                    "0": "jp"
                                },
                                {
                                    "0": "ar"
                                },
                                {
                                    "0": "ar"
                                },
                                {
                                    "0": "po"
                                },
                                {
                                    "0": "ge"
                                },
                                {
                                    "0": "ar"
                                },
                                {
                                    "0": "sp"
                                },
                                {
                                    "0": "ar"
                                },
                                {
                                    "0": "ge"
                                },
                                {
                                    "0": "no"
                                },
                                {
                                    "0": "in"
                                },
                                {
                                    "0": "sp"
                                },
                                {
                                    "0": "sp"
                                },
                                {
                                    "0": "po"
                                },
                                {
                                    "0": "sp"
                                },
                                {
                                    "0": "ar"
                                },
                                {
                                    "0": "ar"
                                },
                                {
                                    "0": "ar"
                                },
                                {
                                    "0": "jp"
                                },
                                {
                                    "0": "po"
                                },
                                {
                                    "0": "sp"
                                },
                                {
                                    "0": "ar"
                                },
                                {
                                    "0": "sp"
                                },
                                {
                                    "0": "ge"
                                },
                                {
                                    "0": "ar"
                                },
                                {
                                    "0": "ar"
                                },
                                {
                                    "0": "ge"
                                },
                                {
                                    "0": "in"
                                },
                                {
                                    "0": "in"
                                },
                                {
                                    "0": "fr"
                                },
                                {
                                    "0": "jp"
                                },
                                {
                                    "0": "ar"
                                },
                                {
                                    "0": "tu"
                                },
                                {
                                    "0": "no"
                                },
                                {
                                    "0": "ar"
                                },
                                {
                                    "0": "ar"
                                },
                                {
                                    "0": "sp"
                                },
                                {
                                    "0": "ar"
                                },
                                {
                                    "0": "fr"
                                },
                                {
                                    "0": "sp"
                                },
                                {
                                    "0": "in"
                                },
                                {
                                    "0": "da"
                                },
                                {
                                    "0": "po"
                                },
                                {
                                    "0": "ar"
                                },
                                {
                                    "0": "in"
                                },
                                {
                                    "0": "in"
                                },
                                {
                                    "0": "ar"
                                },
                                {
                                    "0": "sp"
                                },
                                {
                                    "0": "ar"
                                },
                                {
                                    "0": "in"
                                },
                                {
                                    "0": "fi"
                                },
                                {
                                    "0": "in"
                                },
                                {
                                    "0": "it"
                                },
                                {
                                    "0": "in"
                                },
                                {
                                    "0": "fr"
                                },
                                {
                                    "0": "ar"
                                },
                                {
                                    "0": "po"
                                },
                                {
                                    "0": "ar"
                                },
                                {
                                    "0": "jp"
                                },
                                {
                                    "0": "fr"
                                },
                                {
                                    "0": "pe"
                                },
                                {
                                    "0": "ar"
                                },
                                {
                                    "0": "fr"
                                },
                                {
                                    "0": "fr"
                                },
                                {
                                    "0": "ge"
                                },
                                {
                                    "0": "fr"
                                },
                                {
                                    "0": "pe"
                                },
                                {
                                    "0": "ge"
                                },
                                {
                                    "0": "fr"
                                },
                                {
                                    "0": "da"
                                },
                                {
                                    "0": "ar"
                                },
                                {
                                    "0": "fr"
                                },
                                {
                                    "0": "ar"
                                },
                                {
                                    "0": "fr"
                                },
                                {
                                    "0": "ar"
                                },
                                {
                                    "0": "in"
                                },
                                {
                                    "0": "po"
                                },
                                {
                                    "0": "ge"
                                },
                                {
                                    "0": "ar"
                                },
                                {
                                    "0": "fr"
                                },
                                {
                                    "0": "ar"
                                },
                                {
                                    "0": "ar"
                                },
                                {
                                    "0": "ar"
                                },
                                {
                                    "0": "in"
                                },
                                {
                                    "0": "pe"
                                },
                                {
                                    "0": "in"
                                },
                                {
                                    "0": "po"
                                },
                                {
                                    "0": "pe"
                                },
                                {
                                    "0": "po"
                                },
                                {
                                    "0": "po"
                                },
                                {
                                    "0": "fr"
                                },
                                {
                                    "0": "in"
                                },
                                {
                                    "0": "sw"
                                },
                                {
                                    "0": "sp"
                                },
                                {
                                    "0": "ar"
                                },
                                {
                                    "0": "in"
                                },
                                {
                                    "0": "ar"
                                },
                                {
                                    "0": "ar"
                                },
                                {
                                    "0": "sp"
                                },
                                {
                                    "0": "ar"
                                },
                                {
                                    "0": "ar"
                                },
                                {
                                    "0": "in"
                                },
                                {
                                    "0": "ar"
                                },
                                {
                                    "0": "jp"
                                },
                                {
                                    "0": "ar"
                                },
                                {
                                    "0": "ar"
                                },
                                {
                                    "0": "pe"
                                },
                                {
                                    "0": "in"
                                },
                                {
                                    "0": "po"
                                },
                                {
                                    "0": "ar"
                                },
                                {
                                    "0": "ar"
                                },
                                {
                                    "0": "in"
                                },
                                {
                                    "0": "fr"
                                },
                                {
                                    "0": "fr"
                                },
                                {
                                    "0": "po"
                                },
                                {
                                    "0": "ge"
                                },
                                {
                                    "0": "ar"
                                },
                                {
                                    "0": "ar"
                                },
                                {
                                    "0": "ar"
                                },
                                {
                                    "0": "in"
                                },
                                {
                                    "0": "ru"
                                },
                                {
                                    "0": "mu"
                                },
                                {
                                    "0": "fr"
                                },
                                {
                                    "0": "pe"
                                },
                                {
                                    "0": "in"
                                },
                                {
                                    "0": "ar"
                                },
                                {
                                    "0": "in"
                                },
                                {
                                    "0": "in"
                                },
                                {
                                    "0": "ar"
                                },
                                {
                                    "0": "sp"
                                },
                                {
                                    "0": "jp"
                                },
                                {
                                    "0": "fi"
                                },
                                {
                                    "0": "ge"
                                },
                                {
                                    "0": "da"
                                },
                                {
                                    "0": "ar"
                                },
                                {
                                    "0": "sp"
                                },
                                {
                                    "0": "fr"
                                },
                                {
                                    "0": "ar"
                                },
                                {
                                    "0": "ar"
                                },
                                {
                                    "0": "ar"
                                },
                                {
                                    "0": "ar"
                                },
                                {
                                    "0": "ar"
                                },
                                {
                                    "0": "ar"
                                },
                                {
                                    "0": "fr"
                                },
                                {
                                    "0": "ar"
                                },
                                {
                                    "0": "pe"
                                },
                                {
                                    "0": "ru"
                                },
                                {
                                    "0": "sp"
                                },
                                {
                                    "0": "ar"
                                },
                                {
                                    "0": "it"
                                },
                                {
                                    "0": "ar"
                                },
                                {
                                    "0": "fr"
                                }
                            ]
                        },
                        "text/html": [
                            "<table>",
                            "<tr><th>(No column name)</th></tr>",
                            "<tr><td>sp</td></tr>",
                            "<tr><td>sp</td></tr>",
                            "<tr><td>sp</td></tr>",
                            "<tr><td>fr</td></tr>",
                            "<tr><td>fr</td></tr>",
                            "<tr><td>fr</td></tr>",
                            "<tr><td>sp</td></tr>",
                            "<tr><td>fr</td></tr>",
                            "<tr><td>nl</td></tr>",
                            "<tr><td>ar</td></tr>",
                            "<tr><td>ar</td></tr>",
                            "<tr><td>ar</td></tr>",
                            "<tr><td>po</td></tr>",
                            "<tr><td>ar</td></tr>",
                            "<tr><td>sp</td></tr>",
                            "<tr><td>sp</td></tr>",
                            "<tr><td>ge</td></tr>",
                            "<tr><td>ar</td></tr>",
                            "<tr><td>ar</td></tr>",
                            "<tr><td>ar</td></tr>",
                            "<tr><td>ge</td></tr>",
                            "<tr><td>ar</td></tr>",
                            "<tr><td>fr</td></tr>",
                            "<tr><td>no</td></tr>",
                            "<tr><td>jp</td></tr>",
                            "<tr><td>ar</td></tr>",
                            "<tr><td>fr</td></tr>",
                            "<tr><td>fr</td></tr>",
                            "<tr><td>ge</td></tr>",
                            "<tr><td>vi</td></tr>",
                            "<tr><td>ge</td></tr>",
                            "<tr><td>ar</td></tr>",
                            "<tr><td>ar</td></tr>",
                            "<tr><td>ar</td></tr>",
                            "<tr><td>jp</td></tr>",
                            "<tr><td>ar</td></tr>",
                            "<tr><td>ar</td></tr>",
                            "<tr><td>po</td></tr>",
                            "<tr><td>ge</td></tr>",
                            "<tr><td>ar</td></tr>",
                            "<tr><td>sp</td></tr>",
                            "<tr><td>ar</td></tr>",
                            "<tr><td>ge</td></tr>",
                            "<tr><td>no</td></tr>",
                            "<tr><td>in</td></tr>",
                            "<tr><td>sp</td></tr>",
                            "<tr><td>sp</td></tr>",
                            "<tr><td>po</td></tr>",
                            "<tr><td>sp</td></tr>",
                            "<tr><td>ar</td></tr>",
                            "<tr><td>ar</td></tr>",
                            "<tr><td>ar</td></tr>",
                            "<tr><td>jp</td></tr>",
                            "<tr><td>po</td></tr>",
                            "<tr><td>sp</td></tr>",
                            "<tr><td>ar</td></tr>",
                            "<tr><td>sp</td></tr>",
                            "<tr><td>ge</td></tr>",
                            "<tr><td>ar</td></tr>",
                            "<tr><td>ar</td></tr>",
                            "<tr><td>ge</td></tr>",
                            "<tr><td>in</td></tr>",
                            "<tr><td>in</td></tr>",
                            "<tr><td>fr</td></tr>",
                            "<tr><td>jp</td></tr>",
                            "<tr><td>ar</td></tr>",
                            "<tr><td>tu</td></tr>",
                            "<tr><td>no</td></tr>",
                            "<tr><td>ar</td></tr>",
                            "<tr><td>ar</td></tr>",
                            "<tr><td>sp</td></tr>",
                            "<tr><td>ar</td></tr>",
                            "<tr><td>fr</td></tr>",
                            "<tr><td>sp</td></tr>",
                            "<tr><td>in</td></tr>",
                            "<tr><td>da</td></tr>",
                            "<tr><td>po</td></tr>",
                            "<tr><td>ar</td></tr>",
                            "<tr><td>in</td></tr>",
                            "<tr><td>in</td></tr>",
                            "<tr><td>ar</td></tr>",
                            "<tr><td>sp</td></tr>",
                            "<tr><td>ar</td></tr>",
                            "<tr><td>in</td></tr>",
                            "<tr><td>fi</td></tr>",
                            "<tr><td>in</td></tr>",
                            "<tr><td>it</td></tr>",
                            "<tr><td>in</td></tr>",
                            "<tr><td>fr</td></tr>",
                            "<tr><td>ar</td></tr>",
                            "<tr><td>po</td></tr>",
                            "<tr><td>ar</td></tr>",
                            "<tr><td>jp</td></tr>",
                            "<tr><td>fr</td></tr>",
                            "<tr><td>pe</td></tr>",
                            "<tr><td>ar</td></tr>",
                            "<tr><td>fr</td></tr>",
                            "<tr><td>fr</td></tr>",
                            "<tr><td>ge</td></tr>",
                            "<tr><td>fr</td></tr>",
                            "<tr><td>pe</td></tr>",
                            "<tr><td>ge</td></tr>",
                            "<tr><td>fr</td></tr>",
                            "<tr><td>da</td></tr>",
                            "<tr><td>ar</td></tr>",
                            "<tr><td>fr</td></tr>",
                            "<tr><td>ar</td></tr>",
                            "<tr><td>fr</td></tr>",
                            "<tr><td>ar</td></tr>",
                            "<tr><td>in</td></tr>",
                            "<tr><td>po</td></tr>",
                            "<tr><td>ge</td></tr>",
                            "<tr><td>ar</td></tr>",
                            "<tr><td>fr</td></tr>",
                            "<tr><td>ar</td></tr>",
                            "<tr><td>ar</td></tr>",
                            "<tr><td>ar</td></tr>",
                            "<tr><td>in</td></tr>",
                            "<tr><td>pe</td></tr>",
                            "<tr><td>in</td></tr>",
                            "<tr><td>po</td></tr>",
                            "<tr><td>pe</td></tr>",
                            "<tr><td>po</td></tr>",
                            "<tr><td>po</td></tr>",
                            "<tr><td>fr</td></tr>",
                            "<tr><td>in</td></tr>",
                            "<tr><td>sw</td></tr>",
                            "<tr><td>sp</td></tr>",
                            "<tr><td>ar</td></tr>",
                            "<tr><td>in</td></tr>",
                            "<tr><td>ar</td></tr>",
                            "<tr><td>ar</td></tr>",
                            "<tr><td>sp</td></tr>",
                            "<tr><td>ar</td></tr>",
                            "<tr><td>ar</td></tr>",
                            "<tr><td>in</td></tr>",
                            "<tr><td>ar</td></tr>",
                            "<tr><td>jp</td></tr>",
                            "<tr><td>ar</td></tr>",
                            "<tr><td>ar</td></tr>",
                            "<tr><td>pe</td></tr>",
                            "<tr><td>in</td></tr>",
                            "<tr><td>po</td></tr>",
                            "<tr><td>ar</td></tr>",
                            "<tr><td>ar</td></tr>",
                            "<tr><td>in</td></tr>",
                            "<tr><td>fr</td></tr>",
                            "<tr><td>fr</td></tr>",
                            "<tr><td>po</td></tr>",
                            "<tr><td>ge</td></tr>",
                            "<tr><td>ar</td></tr>",
                            "<tr><td>ar</td></tr>",
                            "<tr><td>ar</td></tr>",
                            "<tr><td>in</td></tr>",
                            "<tr><td>ru</td></tr>",
                            "<tr><td>mu</td></tr>",
                            "<tr><td>fr</td></tr>",
                            "<tr><td>pe</td></tr>",
                            "<tr><td>in</td></tr>",
                            "<tr><td>ar</td></tr>",
                            "<tr><td>in</td></tr>",
                            "<tr><td>in</td></tr>",
                            "<tr><td>ar</td></tr>",
                            "<tr><td>sp</td></tr>",
                            "<tr><td>jp</td></tr>",
                            "<tr><td>fi</td></tr>",
                            "<tr><td>ge</td></tr>",
                            "<tr><td>da</td></tr>",
                            "<tr><td>ar</td></tr>",
                            "<tr><td>sp</td></tr>",
                            "<tr><td>fr</td></tr>",
                            "<tr><td>ar</td></tr>",
                            "<tr><td>ar</td></tr>",
                            "<tr><td>ar</td></tr>",
                            "<tr><td>ar</td></tr>",
                            "<tr><td>ar</td></tr>",
                            "<tr><td>ar</td></tr>",
                            "<tr><td>fr</td></tr>",
                            "<tr><td>ar</td></tr>",
                            "<tr><td>pe</td></tr>",
                            "<tr><td>ru</td></tr>",
                            "<tr><td>sp</td></tr>",
                            "<tr><td>ar</td></tr>",
                            "<tr><td>it</td></tr>",
                            "<tr><td>ar</td></tr>",
                            "<tr><td>fr</td></tr>",
                            "</table>"
                        ]
                    }
                }
            ],
            "execution_count": 7
        },
        {
            "cell_type": "markdown",
            "source": [
                "6\\. Retry question 5 using SUBSTRING."
            ],
            "metadata": {
                "azdata_cell_guid": "93153cd1-ecea-4e4b-87f5-2214993a7291"
            }
        },
        {
            "cell_type": "code",
            "source": [
                "-- Code here:\r\n",
                "SELECT SUBSTRING(language_code, 0, 5)\r\n",
                "FROM BooksDB.dbo.books\r\n",
                "Where language_code NOT LIKE 'en%'\r\n",
                "     \r\n",
                ""
            ],
            "metadata": {
                "azdata_cell_guid": "7756ae02-4ec2-4456-b3a7-c3604bf07e26",
                "language": "sql"
            },
            "outputs": [
                {
                    "output_type": "display_data",
                    "data": {
                        "text/html": "(186 rows affected)"
                    },
                    "metadata": {}
                },
                {
                    "output_type": "display_data",
                    "data": {
                        "text/html": "Total execution time: 00:00:00.098"
                    },
                    "metadata": {}
                },
                {
                    "output_type": "execute_result",
                    "metadata": {},
                    "execution_count": 8,
                    "data": {
                        "application/vnd.dataresource+json": {
                            "schema": {
                                "fields": [
                                    {
                                        "name": "(No column name)"
                                    }
                                ]
                            },
                            "data": [
                                {
                                    "0": "spa"
                                },
                                {
                                    "0": "spa"
                                },
                                {
                                    "0": "spa"
                                },
                                {
                                    "0": "fre"
                                },
                                {
                                    "0": "fre"
                                },
                                {
                                    "0": "fre"
                                },
                                {
                                    "0": "spa"
                                },
                                {
                                    "0": "fre"
                                },
                                {
                                    "0": "nl"
                                },
                                {
                                    "0": "ara"
                                },
                                {
                                    "0": "ara"
                                },
                                {
                                    "0": "ara"
                                },
                                {
                                    "0": "por"
                                },
                                {
                                    "0": "ara"
                                },
                                {
                                    "0": "spa"
                                },
                                {
                                    "0": "spa"
                                },
                                {
                                    "0": "ger"
                                },
                                {
                                    "0": "ara"
                                },
                                {
                                    "0": "ara"
                                },
                                {
                                    "0": "ara"
                                },
                                {
                                    "0": "ger"
                                },
                                {
                                    "0": "ara"
                                },
                                {
                                    "0": "fre"
                                },
                                {
                                    "0": "nor"
                                },
                                {
                                    "0": "jpn"
                                },
                                {
                                    "0": "ara"
                                },
                                {
                                    "0": "fre"
                                },
                                {
                                    "0": "fre"
                                },
                                {
                                    "0": "ger"
                                },
                                {
                                    "0": "vie"
                                },
                                {
                                    "0": "ger"
                                },
                                {
                                    "0": "ara"
                                },
                                {
                                    "0": "ara"
                                },
                                {
                                    "0": "ara"
                                },
                                {
                                    "0": "jpn"
                                },
                                {
                                    "0": "ara"
                                },
                                {
                                    "0": "ara"
                                },
                                {
                                    "0": "por"
                                },
                                {
                                    "0": "ger"
                                },
                                {
                                    "0": "ara"
                                },
                                {
                                    "0": "spa"
                                },
                                {
                                    "0": "ara"
                                },
                                {
                                    "0": "ger"
                                },
                                {
                                    "0": "nor"
                                },
                                {
                                    "0": "ind"
                                },
                                {
                                    "0": "spa"
                                },
                                {
                                    "0": "spa"
                                },
                                {
                                    "0": "pol"
                                },
                                {
                                    "0": "spa"
                                },
                                {
                                    "0": "ara"
                                },
                                {
                                    "0": "ara"
                                },
                                {
                                    "0": "ara"
                                },
                                {
                                    "0": "jpn"
                                },
                                {
                                    "0": "pol"
                                },
                                {
                                    "0": "spa"
                                },
                                {
                                    "0": "ara"
                                },
                                {
                                    "0": "spa"
                                },
                                {
                                    "0": "ger"
                                },
                                {
                                    "0": "ara"
                                },
                                {
                                    "0": "ara"
                                },
                                {
                                    "0": "ger"
                                },
                                {
                                    "0": "ind"
                                },
                                {
                                    "0": "ind"
                                },
                                {
                                    "0": "fre"
                                },
                                {
                                    "0": "jpn"
                                },
                                {
                                    "0": "ara"
                                },
                                {
                                    "0": "tur"
                                },
                                {
                                    "0": "nor"
                                },
                                {
                                    "0": "ara"
                                },
                                {
                                    "0": "ara"
                                },
                                {
                                    "0": "spa"
                                },
                                {
                                    "0": "ara"
                                },
                                {
                                    "0": "fre"
                                },
                                {
                                    "0": "spa"
                                },
                                {
                                    "0": "ind"
                                },
                                {
                                    "0": "dan"
                                },
                                {
                                    "0": "pol"
                                },
                                {
                                    "0": "ara"
                                },
                                {
                                    "0": "ind"
                                },
                                {
                                    "0": "ind"
                                },
                                {
                                    "0": "ara"
                                },
                                {
                                    "0": "spa"
                                },
                                {
                                    "0": "ara"
                                },
                                {
                                    "0": "ind"
                                },
                                {
                                    "0": "fil"
                                },
                                {
                                    "0": "ind"
                                },
                                {
                                    "0": "ita"
                                },
                                {
                                    "0": "ind"
                                },
                                {
                                    "0": "fre"
                                },
                                {
                                    "0": "ara"
                                },
                                {
                                    "0": "pol"
                                },
                                {
                                    "0": "ara"
                                },
                                {
                                    "0": "jpn"
                                },
                                {
                                    "0": "fre"
                                },
                                {
                                    "0": "per"
                                },
                                {
                                    "0": "ara"
                                },
                                {
                                    "0": "fre"
                                },
                                {
                                    "0": "fre"
                                },
                                {
                                    "0": "ger"
                                },
                                {
                                    "0": "fre"
                                },
                                {
                                    "0": "per"
                                },
                                {
                                    "0": "ger"
                                },
                                {
                                    "0": "fre"
                                },
                                {
                                    "0": "dan"
                                },
                                {
                                    "0": "ara"
                                },
                                {
                                    "0": "fre"
                                },
                                {
                                    "0": "ara"
                                },
                                {
                                    "0": "fre"
                                },
                                {
                                    "0": "ara"
                                },
                                {
                                    "0": "ind"
                                },
                                {
                                    "0": "pol"
                                },
                                {
                                    "0": "ger"
                                },
                                {
                                    "0": "ara"
                                },
                                {
                                    "0": "fre"
                                },
                                {
                                    "0": "ara"
                                },
                                {
                                    "0": "ara"
                                },
                                {
                                    "0": "ara"
                                },
                                {
                                    "0": "ind"
                                },
                                {
                                    "0": "per"
                                },
                                {
                                    "0": "ind"
                                },
                                {
                                    "0": "por"
                                },
                                {
                                    "0": "per"
                                },
                                {
                                    "0": "por"
                                },
                                {
                                    "0": "por"
                                },
                                {
                                    "0": "fre"
                                },
                                {
                                    "0": "ind"
                                },
                                {
                                    "0": "swe"
                                },
                                {
                                    "0": "spa"
                                },
                                {
                                    "0": "ara"
                                },
                                {
                                    "0": "ind"
                                },
                                {
                                    "0": "ara"
                                },
                                {
                                    "0": "ara"
                                },
                                {
                                    "0": "spa"
                                },
                                {
                                    "0": "ara"
                                },
                                {
                                    "0": "ara"
                                },
                                {
                                    "0": "ind"
                                },
                                {
                                    "0": "ara"
                                },
                                {
                                    "0": "jpn"
                                },
                                {
                                    "0": "ara"
                                },
                                {
                                    "0": "ara"
                                },
                                {
                                    "0": "per"
                                },
                                {
                                    "0": "ind"
                                },
                                {
                                    "0": "pol"
                                },
                                {
                                    "0": "ara"
                                },
                                {
                                    "0": "ara"
                                },
                                {
                                    "0": "ind"
                                },
                                {
                                    "0": "fre"
                                },
                                {
                                    "0": "fre"
                                },
                                {
                                    "0": "por"
                                },
                                {
                                    "0": "ger"
                                },
                                {
                                    "0": "ara"
                                },
                                {
                                    "0": "ara"
                                },
                                {
                                    "0": "ara"
                                },
                                {
                                    "0": "ind"
                                },
                                {
                                    "0": "rum"
                                },
                                {
                                    "0": "mul"
                                },
                                {
                                    "0": "fre"
                                },
                                {
                                    "0": "per"
                                },
                                {
                                    "0": "ind"
                                },
                                {
                                    "0": "ara"
                                },
                                {
                                    "0": "ind"
                                },
                                {
                                    "0": "ind"
                                },
                                {
                                    "0": "ara"
                                },
                                {
                                    "0": "spa"
                                },
                                {
                                    "0": "jpn"
                                },
                                {
                                    "0": "fil"
                                },
                                {
                                    "0": "ger"
                                },
                                {
                                    "0": "dan"
                                },
                                {
                                    "0": "ara"
                                },
                                {
                                    "0": "spa"
                                },
                                {
                                    "0": "fre"
                                },
                                {
                                    "0": "ara"
                                },
                                {
                                    "0": "ara"
                                },
                                {
                                    "0": "ara"
                                },
                                {
                                    "0": "ara"
                                },
                                {
                                    "0": "ara"
                                },
                                {
                                    "0": "ara"
                                },
                                {
                                    "0": "fre"
                                },
                                {
                                    "0": "ara"
                                },
                                {
                                    "0": "per"
                                },
                                {
                                    "0": "rus"
                                },
                                {
                                    "0": "spa"
                                },
                                {
                                    "0": "ara"
                                },
                                {
                                    "0": "ita"
                                },
                                {
                                    "0": "ara"
                                },
                                {
                                    "0": "fre"
                                }
                            ]
                        },
                        "text/html": [
                            "<table>",
                            "<tr><th>(No column name)</th></tr>",
                            "<tr><td>spa</td></tr>",
                            "<tr><td>spa</td></tr>",
                            "<tr><td>spa</td></tr>",
                            "<tr><td>fre</td></tr>",
                            "<tr><td>fre</td></tr>",
                            "<tr><td>fre</td></tr>",
                            "<tr><td>spa</td></tr>",
                            "<tr><td>fre</td></tr>",
                            "<tr><td>nl</td></tr>",
                            "<tr><td>ara</td></tr>",
                            "<tr><td>ara</td></tr>",
                            "<tr><td>ara</td></tr>",
                            "<tr><td>por</td></tr>",
                            "<tr><td>ara</td></tr>",
                            "<tr><td>spa</td></tr>",
                            "<tr><td>spa</td></tr>",
                            "<tr><td>ger</td></tr>",
                            "<tr><td>ara</td></tr>",
                            "<tr><td>ara</td></tr>",
                            "<tr><td>ara</td></tr>",
                            "<tr><td>ger</td></tr>",
                            "<tr><td>ara</td></tr>",
                            "<tr><td>fre</td></tr>",
                            "<tr><td>nor</td></tr>",
                            "<tr><td>jpn</td></tr>",
                            "<tr><td>ara</td></tr>",
                            "<tr><td>fre</td></tr>",
                            "<tr><td>fre</td></tr>",
                            "<tr><td>ger</td></tr>",
                            "<tr><td>vie</td></tr>",
                            "<tr><td>ger</td></tr>",
                            "<tr><td>ara</td></tr>",
                            "<tr><td>ara</td></tr>",
                            "<tr><td>ara</td></tr>",
                            "<tr><td>jpn</td></tr>",
                            "<tr><td>ara</td></tr>",
                            "<tr><td>ara</td></tr>",
                            "<tr><td>por</td></tr>",
                            "<tr><td>ger</td></tr>",
                            "<tr><td>ara</td></tr>",
                            "<tr><td>spa</td></tr>",
                            "<tr><td>ara</td></tr>",
                            "<tr><td>ger</td></tr>",
                            "<tr><td>nor</td></tr>",
                            "<tr><td>ind</td></tr>",
                            "<tr><td>spa</td></tr>",
                            "<tr><td>spa</td></tr>",
                            "<tr><td>pol</td></tr>",
                            "<tr><td>spa</td></tr>",
                            "<tr><td>ara</td></tr>",
                            "<tr><td>ara</td></tr>",
                            "<tr><td>ara</td></tr>",
                            "<tr><td>jpn</td></tr>",
                            "<tr><td>pol</td></tr>",
                            "<tr><td>spa</td></tr>",
                            "<tr><td>ara</td></tr>",
                            "<tr><td>spa</td></tr>",
                            "<tr><td>ger</td></tr>",
                            "<tr><td>ara</td></tr>",
                            "<tr><td>ara</td></tr>",
                            "<tr><td>ger</td></tr>",
                            "<tr><td>ind</td></tr>",
                            "<tr><td>ind</td></tr>",
                            "<tr><td>fre</td></tr>",
                            "<tr><td>jpn</td></tr>",
                            "<tr><td>ara</td></tr>",
                            "<tr><td>tur</td></tr>",
                            "<tr><td>nor</td></tr>",
                            "<tr><td>ara</td></tr>",
                            "<tr><td>ara</td></tr>",
                            "<tr><td>spa</td></tr>",
                            "<tr><td>ara</td></tr>",
                            "<tr><td>fre</td></tr>",
                            "<tr><td>spa</td></tr>",
                            "<tr><td>ind</td></tr>",
                            "<tr><td>dan</td></tr>",
                            "<tr><td>pol</td></tr>",
                            "<tr><td>ara</td></tr>",
                            "<tr><td>ind</td></tr>",
                            "<tr><td>ind</td></tr>",
                            "<tr><td>ara</td></tr>",
                            "<tr><td>spa</td></tr>",
                            "<tr><td>ara</td></tr>",
                            "<tr><td>ind</td></tr>",
                            "<tr><td>fil</td></tr>",
                            "<tr><td>ind</td></tr>",
                            "<tr><td>ita</td></tr>",
                            "<tr><td>ind</td></tr>",
                            "<tr><td>fre</td></tr>",
                            "<tr><td>ara</td></tr>",
                            "<tr><td>pol</td></tr>",
                            "<tr><td>ara</td></tr>",
                            "<tr><td>jpn</td></tr>",
                            "<tr><td>fre</td></tr>",
                            "<tr><td>per</td></tr>",
                            "<tr><td>ara</td></tr>",
                            "<tr><td>fre</td></tr>",
                            "<tr><td>fre</td></tr>",
                            "<tr><td>ger</td></tr>",
                            "<tr><td>fre</td></tr>",
                            "<tr><td>per</td></tr>",
                            "<tr><td>ger</td></tr>",
                            "<tr><td>fre</td></tr>",
                            "<tr><td>dan</td></tr>",
                            "<tr><td>ara</td></tr>",
                            "<tr><td>fre</td></tr>",
                            "<tr><td>ara</td></tr>",
                            "<tr><td>fre</td></tr>",
                            "<tr><td>ara</td></tr>",
                            "<tr><td>ind</td></tr>",
                            "<tr><td>pol</td></tr>",
                            "<tr><td>ger</td></tr>",
                            "<tr><td>ara</td></tr>",
                            "<tr><td>fre</td></tr>",
                            "<tr><td>ara</td></tr>",
                            "<tr><td>ara</td></tr>",
                            "<tr><td>ara</td></tr>",
                            "<tr><td>ind</td></tr>",
                            "<tr><td>per</td></tr>",
                            "<tr><td>ind</td></tr>",
                            "<tr><td>por</td></tr>",
                            "<tr><td>per</td></tr>",
                            "<tr><td>por</td></tr>",
                            "<tr><td>por</td></tr>",
                            "<tr><td>fre</td></tr>",
                            "<tr><td>ind</td></tr>",
                            "<tr><td>swe</td></tr>",
                            "<tr><td>spa</td></tr>",
                            "<tr><td>ara</td></tr>",
                            "<tr><td>ind</td></tr>",
                            "<tr><td>ara</td></tr>",
                            "<tr><td>ara</td></tr>",
                            "<tr><td>spa</td></tr>",
                            "<tr><td>ara</td></tr>",
                            "<tr><td>ara</td></tr>",
                            "<tr><td>ind</td></tr>",
                            "<tr><td>ara</td></tr>",
                            "<tr><td>jpn</td></tr>",
                            "<tr><td>ara</td></tr>",
                            "<tr><td>ara</td></tr>",
                            "<tr><td>per</td></tr>",
                            "<tr><td>ind</td></tr>",
                            "<tr><td>pol</td></tr>",
                            "<tr><td>ara</td></tr>",
                            "<tr><td>ara</td></tr>",
                            "<tr><td>ind</td></tr>",
                            "<tr><td>fre</td></tr>",
                            "<tr><td>fre</td></tr>",
                            "<tr><td>por</td></tr>",
                            "<tr><td>ger</td></tr>",
                            "<tr><td>ara</td></tr>",
                            "<tr><td>ara</td></tr>",
                            "<tr><td>ara</td></tr>",
                            "<tr><td>ind</td></tr>",
                            "<tr><td>rum</td></tr>",
                            "<tr><td>mul</td></tr>",
                            "<tr><td>fre</td></tr>",
                            "<tr><td>per</td></tr>",
                            "<tr><td>ind</td></tr>",
                            "<tr><td>ara</td></tr>",
                            "<tr><td>ind</td></tr>",
                            "<tr><td>ind</td></tr>",
                            "<tr><td>ara</td></tr>",
                            "<tr><td>spa</td></tr>",
                            "<tr><td>jpn</td></tr>",
                            "<tr><td>fil</td></tr>",
                            "<tr><td>ger</td></tr>",
                            "<tr><td>dan</td></tr>",
                            "<tr><td>ara</td></tr>",
                            "<tr><td>spa</td></tr>",
                            "<tr><td>fre</td></tr>",
                            "<tr><td>ara</td></tr>",
                            "<tr><td>ara</td></tr>",
                            "<tr><td>ara</td></tr>",
                            "<tr><td>ara</td></tr>",
                            "<tr><td>ara</td></tr>",
                            "<tr><td>ara</td></tr>",
                            "<tr><td>fre</td></tr>",
                            "<tr><td>ara</td></tr>",
                            "<tr><td>per</td></tr>",
                            "<tr><td>rus</td></tr>",
                            "<tr><td>spa</td></tr>",
                            "<tr><td>ara</td></tr>",
                            "<tr><td>ita</td></tr>",
                            "<tr><td>ara</td></tr>",
                            "<tr><td>fre</td></tr>",
                            "</table>"
                        ]
                    }
                }
            ],
            "execution_count": 8
        },
        {
            "cell_type": "markdown",
            "source": [
                "7.  Create a column that returns the title, authors, and language codes.  Concatenate these elements so that they return in the following way: title by authors in language\\_code language.\n",
                "\n",
                "> A.  Check each selected column to see where any values are NULL.  Did any of the columns contain NULL values?  If so, which one?"
            ],
            "metadata": {
                "azdata_cell_guid": "c8124542-ea76-4153-96ef-f4db908fbd6c"
            }
        },
        {
            "cell_type": "code",
            "source": [
                "-- Code here:\r\n",
                "SELECT CONCAT_WS(title, authors, language_code)\r\n",
                "FROM BooksDB.dbo.books\r\n",
                "WHERE title IS NULL AND authors IS NULL AND language_code IS NULL\r\n",
                "     "
            ],
            "metadata": {
                "azdata_cell_guid": "26705af1-6191-48b9-b649-7bc93cad102d",
                "language": "sql"
            },
            "outputs": [
                {
                    "output_type": "display_data",
                    "data": {
                        "text/html": "(0 rows affected)"
                    },
                    "metadata": {}
                },
                {
                    "output_type": "display_data",
                    "data": {
                        "text/html": "Total execution time: 00:00:00.047"
                    },
                    "metadata": {}
                },
                {
                    "output_type": "execute_result",
                    "metadata": {},
                    "execution_count": 9,
                    "data": {
                        "application/vnd.dataresource+json": {
                            "schema": {
                                "fields": [
                                    {
                                        "name": "(No column name)"
                                    }
                                ]
                            },
                            "data": []
                        },
                        "text/html": [
                            "<table>",
                            "<tr><th>(No column name)</th></tr>",
                            "</table>"
                        ]
                    }
                }
            ],
            "execution_count": 9
        },
        {
            "cell_type": "code",
            "source": [
                "\r\n",
                "SELECT TOP 10 title, authors, language_code\r\n",
                "FROM BooksDB.dbo.books\r\n",
                "WHERE language_code IS NULL\r\n",
                ""
            ],
            "metadata": {
                "language": "sql",
                "azdata_cell_guid": "b1b236f0-cec3-49a2-87a4-75d0379576c2"
            },
            "outputs": [
                {
                    "output_type": "display_data",
                    "data": {
                        "text/html": "(10 rows affected)"
                    },
                    "metadata": {}
                },
                {
                    "output_type": "display_data",
                    "data": {
                        "text/html": "Total execution time: 00:00:00.097"
                    },
                    "metadata": {}
                },
                {
                    "output_type": "execute_result",
                    "metadata": {},
                    "execution_count": 10,
                    "data": {
                        "application/vnd.dataresource+json": {
                            "schema": {
                                "fields": [
                                    {
                                        "name": "title"
                                    },
                                    {
                                        "name": "authors"
                                    },
                                    {
                                        "name": "language_code"
                                    }
                                ]
                            },
                            "data": [
                                {
                                    "0": "Life of Pi",
                                    "1": "Yann Martel",
                                    "2": "NULL"
                                },
                                {
                                    "0": "The Five People You Meet in Heaven",
                                    "1": "Mitch Albom",
                                    "2": "NULL"
                                },
                                {
                                    "0": "A Christmas Carol",
                                    "1": "Charles Dickens",
                                    "2": "NULL"
                                },
                                {
                                    "0": "Carrie",
                                    "1": "Stephen King",
                                    "2": "NULL"
                                },
                                {
                                    "0": "The Hunt for Red October (Jack Ryan Universe, #4)",
                                    "1": "Tom Clancy",
                                    "2": "NULL"
                                },
                                {
                                    "0": "Where the Red Fern Grows",
                                    "1": "Wilson Rawls",
                                    "2": "NULL"
                                },
                                {
                                    "0": "Fried Green Tomatoes at the Whistle Stop Cafe",
                                    "1": "Fannie Flagg",
                                    "2": "NULL"
                                },
                                {
                                    "0": "The Three Musketeers",
                                    "1": "Alexandre Dumas",
                                    "2": "NULL"
                                },
                                {
                                    "0": "In Her Shoes",
                                    "1": "Jennifer Weiner",
                                    "2": "NULL"
                                },
                                {
                                    "0": "The Andromeda Strain",
                                    "1": "Michael Crichton",
                                    "2": "NULL"
                                }
                            ]
                        },
                        "text/html": [
                            "<table>",
                            "<tr><th>title</th><th>authors</th><th>language_code</th></tr>",
                            "<tr><td>Life of Pi</td><td>Yann Martel</td><td>NULL</td></tr>",
                            "<tr><td>The Five People You Meet in Heaven</td><td>Mitch Albom</td><td>NULL</td></tr>",
                            "<tr><td>A Christmas Carol</td><td>Charles Dickens</td><td>NULL</td></tr>",
                            "<tr><td>Carrie</td><td>Stephen King</td><td>NULL</td></tr>",
                            "<tr><td>The Hunt for Red October (Jack Ryan Universe, #4)</td><td>Tom Clancy</td><td>NULL</td></tr>",
                            "<tr><td>Where the Red Fern Grows</td><td>Wilson Rawls</td><td>NULL</td></tr>",
                            "<tr><td>Fried Green Tomatoes at the Whistle Stop Cafe</td><td>Fannie Flagg</td><td>NULL</td></tr>",
                            "<tr><td>The Three Musketeers</td><td>Alexandre Dumas</td><td>NULL</td></tr>",
                            "<tr><td>In Her Shoes</td><td>Jennifer Weiner</td><td>NULL</td></tr>",
                            "<tr><td>The Andromeda Strain</td><td>Michael Crichton</td><td>NULL</td></tr>",
                            "</table>"
                        ]
                    }
                }
            ],
            "execution_count": 10
        },
        {
            "cell_type": "markdown",
            "source": [
                "8.  Update the query in question 7 using COALESCE to change the language code values from NULL to 'unknown'.\n",
                "\n",
                "> A.  Has this changed the language\\_code  where the values are NULL?"
            ],
            "metadata": {
                "azdata_cell_guid": "17fd76a8-afa7-4d86-a200-2902d7310a2b"
            }
        },
        {
            "cell_type": "code",
            "source": [
                "-- Code here:\r\n",
                "\r\n",
                "SELECT TOP 10 COALESCE(language_code, title) + ' text in ' + title AS 'unknown'\r\n",
                "FROM BooksDB.dbo.books"
            ],
            "metadata": {
                "azdata_cell_guid": "f9694996-4545-48b9-9981-325b5c590570",
                "language": "sql"
            },
            "outputs": [
                {
                    "output_type": "display_data",
                    "data": {
                        "text/html": "(10 rows affected)"
                    },
                    "metadata": {}
                },
                {
                    "output_type": "display_data",
                    "data": {
                        "text/html": "Total execution time: 00:00:00.049"
                    },
                    "metadata": {}
                },
                {
                    "output_type": "execute_result",
                    "metadata": {},
                    "execution_count": 11,
                    "data": {
                        "application/vnd.dataresource+json": {
                            "schema": {
                                "fields": [
                                    {
                                        "name": "unknown"
                                    }
                                ]
                            },
                            "data": [
                                {
                                    "0": "eng text in The Hunger Games (The Hunger Games, #1)"
                                },
                                {
                                    "0": "eng text in Harry Potter and the Sorcerer's Stone (Harry Potter, #1)"
                                },
                                {
                                    "0": "en-US text in Twilight (Twilight, #1)"
                                },
                                {
                                    "0": "eng text in To Kill a Mockingbird"
                                },
                                {
                                    "0": "eng text in The Great Gatsby"
                                },
                                {
                                    "0": "eng text in The Fault in Our Stars"
                                },
                                {
                                    "0": "en-US text in The Hobbit"
                                },
                                {
                                    "0": "eng text in The Catcher in the Rye"
                                },
                                {
                                    "0": "en-CA text in Angels & Demons  (Robert Langdon, #1)"
                                },
                                {
                                    "0": "eng text in Pride and Prejudice"
                                }
                            ]
                        },
                        "text/html": [
                            "<table>",
                            "<tr><th>unknown</th></tr>",
                            "<tr><td>eng text in The Hunger Games (The Hunger Games, #1)</td></tr>",
                            "<tr><td>eng text in Harry Potter and the Sorcerer's Stone (Harry Potter, #1)</td></tr>",
                            "<tr><td>en-US text in Twilight (Twilight, #1)</td></tr>",
                            "<tr><td>eng text in To Kill a Mockingbird</td></tr>",
                            "<tr><td>eng text in The Great Gatsby</td></tr>",
                            "<tr><td>eng text in The Fault in Our Stars</td></tr>",
                            "<tr><td>en-US text in The Hobbit</td></tr>",
                            "<tr><td>eng text in The Catcher in the Rye</td></tr>",
                            "<tr><td>en-CA text in Angels &amp; Demons  (Robert Langdon, #1)</td></tr>",
                            "<tr><td>eng text in Pride and Prejudice</td></tr>",
                            "</table>"
                        ]
                    }
                }
            ],
            "execution_count": 11
        },
        {
            "cell_type": "markdown",
            "source": [
                "9\\. Revisit question 7 using ISNULL instead of COALESCE.\n",
                "\n",
                "> A.  Has this changed the language\\_code  where the values are NULL?"
            ],
            "metadata": {
                "azdata_cell_guid": "57b87290-135f-478d-bf1c-2262759f8da5"
            }
        },
        {
            "cell_type": "code",
            "source": [
                "-- Code here:\r\n",
                "SELECT TOP 10 language_code, ISNULL (language_code, title) AS 'unknown'\r\n",
                "FROM BooksDB.dbo.books"
            ],
            "metadata": {
                "azdata_cell_guid": "a9670717-6dc6-4685-9f62-7a588753b4a9",
                "language": "sql"
            },
            "outputs": [
                {
                    "output_type": "display_data",
                    "data": {
                        "text/html": "(10 rows affected)"
                    },
                    "metadata": {}
                },
                {
                    "output_type": "display_data",
                    "data": {
                        "text/html": "Total execution time: 00:00:00.044"
                    },
                    "metadata": {}
                },
                {
                    "output_type": "execute_result",
                    "metadata": {},
                    "execution_count": 12,
                    "data": {
                        "application/vnd.dataresource+json": {
                            "schema": {
                                "fields": [
                                    {
                                        "name": "language_code"
                                    },
                                    {
                                        "name": "unknown"
                                    }
                                ]
                            },
                            "data": [
                                {
                                    "0": "eng",
                                    "1": "eng"
                                },
                                {
                                    "0": "eng",
                                    "1": "eng"
                                },
                                {
                                    "0": "en-US",
                                    "1": "en-US"
                                },
                                {
                                    "0": "eng",
                                    "1": "eng"
                                },
                                {
                                    "0": "eng",
                                    "1": "eng"
                                },
                                {
                                    "0": "eng",
                                    "1": "eng"
                                },
                                {
                                    "0": "en-US",
                                    "1": "en-US"
                                },
                                {
                                    "0": "eng",
                                    "1": "eng"
                                },
                                {
                                    "0": "en-CA",
                                    "1": "en-CA"
                                },
                                {
                                    "0": "eng",
                                    "1": "eng"
                                }
                            ]
                        },
                        "text/html": [
                            "<table>",
                            "<tr><th>language_code</th><th>unknown</th></tr>",
                            "<tr><td>eng</td><td>eng</td></tr>",
                            "<tr><td>eng</td><td>eng</td></tr>",
                            "<tr><td>en-US</td><td>en-US</td></tr>",
                            "<tr><td>eng</td><td>eng</td></tr>",
                            "<tr><td>eng</td><td>eng</td></tr>",
                            "<tr><td>eng</td><td>eng</td></tr>",
                            "<tr><td>en-US</td><td>en-US</td></tr>",
                            "<tr><td>eng</td><td>eng</td></tr>",
                            "<tr><td>en-CA</td><td>en-CA</td></tr>",
                            "<tr><td>eng</td><td>eng</td></tr>",
                            "</table>"
                        ]
                    }
                }
            ],
            "execution_count": 12
        }
    ]
}